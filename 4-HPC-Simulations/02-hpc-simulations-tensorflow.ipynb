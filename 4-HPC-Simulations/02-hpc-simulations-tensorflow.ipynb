{
 "cells": [
  {
   "cell_type": "markdown",
   "id": "c9712f6e",
   "metadata": {},
   "source": [
    "# HPC as solutions for AI: TensorFlow"
   ]
  },
  {
   "cell_type": "markdown",
   "id": "8dca98a4",
   "metadata": {},
   "source": [
    "<p style='text-align: justify;'>\n",
    "In this section, it will be shown how to optimize TensorFlow models, accelerating training and execution using GPUs.\n",
    "</p>    "
   ]
  },
  {
   "cell_type": "markdown",
   "id": "be5a80bd-2076-4834-ad32-588e2424d4a4",
   "metadata": {},
   "source": [
    "The principal goals are:\n",
    "* **Understand** what is TensorFlow,\n",
    "* **Learn** the basic concepts of TensorFlow for GPUs,\n",
    "* **Familiarize** yourself with the CIFAR-10 and CIFAR-100 datasets by classifying their various classes,\n",
    "* **Create** a model using TensorFlow."
   ]
  },
  {
   "cell_type": "markdown",
   "id": "8519cfc5",
   "metadata": {},
   "source": [
    "## What applications uses TensorFlow in AI?"
   ]
  },
  {
   "cell_type": "markdown",
   "id": "90331c7b",
   "metadata": {},
   "source": [
    "<p style='text-align: justify;'>\n",
    "TensorFlow is an open-source machine learning framework developed by Google that is widely used in artificial intelligence (AI) applications. It provides a comprehensive set of tools, libraries, and community support for building and deploying various machine learning models, such as deep learning, computer vision, and neural networks. Overall, TensorFlow is a versatile framework that covers a wide range of machine learning and AI applications. However, when creating a model, the training process becomes a bottleneck as it takes a lot of time, but as we will see throughout the module, TensorFlow allows us to speed up this processing.\n",
    "</p>    "
   ]
  },
  {
   "cell_type": "markdown",
   "id": "6df7b378",
   "metadata": {},
   "source": [
    "## The solution: GPUs and TensorFlow"
   ]
  },
  {
   "cell_type": "markdown",
   "id": "6fddc371",
   "metadata": {},
   "source": [
    "<p style='text-align: justify;'> \n",
    "In addition to being a powerful library for machine learning, TensorFlow allows you to train the created model using GPUs, enhancing and accelerating the training process. As we will see later, the performance gain when training a TensorFlow model on a GPU is enormous because GPUs are designed with thousands of processing cores, which allow the execution of many simultaneous operations. This is especially beneficial for matrix calculations, which are fundamental in machine learning algorithms such as neural networks.\n",
    "</p>"
   ]
  },
  {
   "cell_type": "markdown",
   "id": "6adf4e20-c662-4b55-afb1-3a72692d53b7",
   "metadata": {
    "id": "BMvo8TG2WWZE"
   },
   "source": [
    "##  ☆ Challenge: Zoo breakout!☆ "
   ]
  },
  {
   "cell_type": "markdown",
   "id": "b6a32ad3-6702-49ec-b03e-dd5f6be83cd1",
   "metadata": {},
   "source": [
    "<p style='text-align: justify;'> \n",
    "    Recently, an unexpected incident occurred at the local zoo, <b>Orange Grove Zoo</b>: all the animals escaped from their enclosures and are now roaming freely. To deal with this situation, we need your help locating and classifying the escaped animals, distinguishing each animal class, and identifying possible vehicles in the same environment.\n",
    "</p>\n",
    "<p style='text-align: justify;'> \n",
    "You have been assigned as the person responsible for developing a computer vision system capable of identifying and classifying the escaped animals and identifying the presence of vehicles in the images. We will use the CIFAR-10 dataset and the TensorFlow library to train a deep-learning model for this challenge.\n",
    "</p>\n",
    "CIFAR-10 and CIFAR-100 datasets comprehensively collect $32$x$32$ pixel images grouped into $10$ distinct classes.\n",
    "\n",
    "- [CIFAR-10 Dataset](https://www.cs.toronto.edu/~kriz/cifar.html): CIFAR-10 consists of $60,000$ images, each belonging to one of the ten classes: airplanes, cars, birds, cats, deer, dogs, frogs, horses, ships, and trucks. This dataset offers a diverse set of images representing everyday objects.\n",
    "\n",
    "- [CIFAR-100 Dataset](https://www.cs.toronto.edu/~kriz/cifar.html): CIFAR-100 expands upon the CIFAR-10 concept, containing 60,000 images as well. However, it introduces a more challenging task by categorizing images into 100 classes. These classes include various subcategories such as fruits, animals, vehicles, and more."
   ]
  },
  {
   "cell_type": "markdown",
   "id": "8ac15552-86f2-42e2-a62d-ad0b875d46a0",
   "metadata": {
    "id": "X9pJ2tDOCaN6"
   },
   "source": [
    "a) **Create** deep neural network model utilizing the TensorFlow library for the classification of animals and vehicles on a GPU environment using the CIFAR-10 dataset.\n",
    "\n",
    "b) **Conduct** a comparative analysis between models trained on a CPU and GPU to highlight disparities in results.\n",
    "\n",
    "c) Now, use the CIFAR-100 dataset for the classification of animals and vehicles on a GPU. Would it be a good decision to use a GPU or CPU environment for the training process?"
   ]
  },
  {
   "cell_type": "markdown",
   "id": "29c3fab8-7a7d-4977-aa9f-3fbc73eb5ec0",
   "metadata": {
    "id": "8_Ch1ZPO1bIC"
   },
   "source": [
    "### ☆ Solution for `CIFAR-10` using TensorFlow on GPU ☆"
   ]
  },
  {
   "cell_type": "markdown",
   "id": "983edbde",
   "metadata": {},
   "source": [
    "#### ⊗ Importing packages"
   ]
  },
  {
   "cell_type": "code",
   "execution_count": 1,
   "id": "61f0f65f",
   "metadata": {},
   "outputs": [
    {
     "name": "stderr",
     "output_type": "stream",
     "text": [
      "2023-11-10 18:55:45.262116: I tensorflow/core/platform/cpu_feature_guard.cc:182] This TensorFlow binary is optimized to use available CPU instructions in performance-critical operations.\n",
      "To enable the following instructions: AVX2 FMA, in other operations, rebuild TensorFlow with the appropriate compiler flags.\n",
      "2023-11-10 18:55:46.432367: W tensorflow/compiler/tf2tensorrt/utils/py_utils.cc:38] TF-TRT Warning: Could not find TensorRT\n"
     ]
    }
   ],
   "source": [
    "import tensorflow as tf\n",
    "from tensorflow.keras import datasets, layers, models\n",
    "import matplotlib.pyplot as plt\n",
    "import numpy as np\n",
    "import time"
   ]
  },
  {
   "cell_type": "markdown",
   "id": "053fc965",
   "metadata": {},
   "source": [
    "#### ⊗ Verify the devices"
   ]
  },
  {
   "cell_type": "markdown",
   "id": "c26d046e",
   "metadata": {},
   "source": [
    "It is very important, before trying to execute anything on any device, to verify if it is available and if TensorFlow can use it."
   ]
  },
  {
   "cell_type": "markdown",
   "id": "63c5ad9f",
   "metadata": {},
   "source": [
    "#####  Checking the environmental availability"
   ]
  },
  {
   "cell_type": "code",
   "execution_count": 2,
   "id": "f49480c3",
   "metadata": {},
   "outputs": [
    {
     "name": "stdout",
     "output_type": "stream",
     "text": [
      "[PhysicalDevice(name='/physical_device:GPU:0', device_type='GPU')]\n"
     ]
    },
    {
     "name": "stderr",
     "output_type": "stream",
     "text": [
      "2023-11-10 18:55:52.293921: I tensorflow/compiler/xla/stream_executor/cuda/cuda_gpu_executor.cc:995] successful NUMA node read from SysFS had negative value (-1), but there must be at least one NUMA node, so returning NUMA node zero. See more at https://github.com/torvalds/linux/blob/v6.0/Documentation/ABI/testing/sysfs-bus-pci#L344-L355\n",
      "2023-11-10 18:55:52.343671: I tensorflow/compiler/xla/stream_executor/cuda/cuda_gpu_executor.cc:995] successful NUMA node read from SysFS had negative value (-1), but there must be at least one NUMA node, so returning NUMA node zero. See more at https://github.com/torvalds/linux/blob/v6.0/Documentation/ABI/testing/sysfs-bus-pci#L344-L355\n",
      "2023-11-10 18:55:52.343945: I tensorflow/compiler/xla/stream_executor/cuda/cuda_gpu_executor.cc:995] successful NUMA node read from SysFS had negative value (-1), but there must be at least one NUMA node, so returning NUMA node zero. See more at https://github.com/torvalds/linux/blob/v6.0/Documentation/ABI/testing/sysfs-bus-pci#L344-L355\n"
     ]
    }
   ],
   "source": [
    "# Checking if GPU is available\n",
    "print(tf.config.list_physical_devices('GPU'))"
   ]
  },
  {
   "cell_type": "markdown",
   "id": "f7adb41f",
   "metadata": {},
   "source": [
    "#### ⊗ Downloading the dataset"
   ]
  },
  {
   "cell_type": "markdown",
   "id": "b51d0b28",
   "metadata": {},
   "source": [
    "Now we need to download the CIFAR-10 dataset to be able to make predictions. This dataset is a set of labeled images, meaning that each image already has a known label."
   ]
  },
  {
   "cell_type": "code",
   "execution_count": 3,
   "id": "4c34a63e",
   "metadata": {},
   "outputs": [],
   "source": [
    "# Loading the CIFAR-10 dataset\n",
    "(train_images, train_labels), (test_images, test_labels) = datasets.cifar10.load_data()"
   ]
  },
  {
   "cell_type": "markdown",
   "id": "0cc2746c",
   "metadata": {},
   "source": [
    "#### ⊗ Normalizing the dataset"
   ]
  },
  {
   "cell_type": "markdown",
   "id": "a0c993dd",
   "metadata": {},
   "source": [
    "After downloading the entire set of images, we need to normalize them so that we can use them in our example."
   ]
  },
  {
   "cell_type": "code",
   "execution_count": 4,
   "id": "07245e1e",
   "metadata": {},
   "outputs": [],
   "source": [
    "# Normalizing pixel values to the [0, 1] range\n",
    "train_images, test_images = train_images / 255.0, test_images / 255.0"
   ]
  },
  {
   "cell_type": "markdown",
   "id": "7136107e",
   "metadata": {},
   "source": [
    "#### ⊗ Training the model"
   ]
  },
  {
   "cell_type": "markdown",
   "id": "63a977c7",
   "metadata": {},
   "source": [
    "<p style='text-align: justify;'>\n",
    " Below we have the training function with model creation and model compilation. Notice that we need to do the creation and compilation together with the training because we need to set in which device everything will be done. We need to do this because if we don't set the device to create and compile the model, the TensorFlow will choose the faster device, in this case, the GPU, so if we try to use the CPU to train the model, it will fail because the model will be created on the GPU. \n",
    "</p>"
   ]
  },
  {
   "cell_type": "code",
   "execution_count": 5,
   "id": "375da0c4",
   "metadata": {},
   "outputs": [],
   "source": [
    "def train_model(device, train_images, train_labels):\n",
    "    with tf.device(device):\n",
    "        \n",
    "        # Creating the CNN model\n",
    "        model = models.Sequential([\n",
    "            layers.Conv2D(32, (3, 3), activation='relu', input_shape=(32, 32, 3)),\n",
    "            layers.MaxPooling2D((2, 2)),\n",
    "            layers.Conv2D(64, (3, 3), activation='relu'),\n",
    "            layers.MaxPooling2D((2, 2)),\n",
    "            layers.Conv2D(64, (3, 3), activation='relu'),\n",
    "            layers.Flatten(),\n",
    "            layers.Dense(64, activation='relu'),\n",
    "            layers.Dense(10)\n",
    "        ])\n",
    "\n",
    "        # Compiling the model\n",
    "        model.compile(optimizer='adam',\n",
    "                      loss=tf.keras.losses.SparseCategoricalCrossentropy(from_logits=True),\n",
    "                      metrics=['accuracy'])\n",
    "\n",
    "        start_time = time.time()\n",
    "        history = model.fit(train_images, train_labels, epochs=10, \n",
    "                            validation_data=(test_images, test_labels), verbose=1)\n",
    "        end_time = time.time()\n",
    "    \n",
    "    return history, end_time - start_time"
   ]
  },
  {
   "cell_type": "markdown",
   "id": "8c694e7d",
   "metadata": {},
   "source": [
    "<p style='text-align: justify;'> The next step is to perform the model training. Note that in the step below, we will use the GPU to train the model and then the CPU to train and compare their execution times. (Depending on the GPU and CPU of your machine, this step may take some time). </p>"
   ]
  },
  {
   "cell_type": "code",
   "execution_count": 6,
   "id": "279b2220",
   "metadata": {},
   "outputs": [
    {
     "name": "stderr",
     "output_type": "stream",
     "text": [
      "2023-11-10 18:56:10.961677: I tensorflow/compiler/xla/stream_executor/cuda/cuda_gpu_executor.cc:995] successful NUMA node read from SysFS had negative value (-1), but there must be at least one NUMA node, so returning NUMA node zero. See more at https://github.com/torvalds/linux/blob/v6.0/Documentation/ABI/testing/sysfs-bus-pci#L344-L355\n",
      "2023-11-10 18:56:10.962034: I tensorflow/compiler/xla/stream_executor/cuda/cuda_gpu_executor.cc:995] successful NUMA node read from SysFS had negative value (-1), but there must be at least one NUMA node, so returning NUMA node zero. See more at https://github.com/torvalds/linux/blob/v6.0/Documentation/ABI/testing/sysfs-bus-pci#L344-L355\n",
      "2023-11-10 18:56:10.962293: I tensorflow/compiler/xla/stream_executor/cuda/cuda_gpu_executor.cc:995] successful NUMA node read from SysFS had negative value (-1), but there must be at least one NUMA node, so returning NUMA node zero. See more at https://github.com/torvalds/linux/blob/v6.0/Documentation/ABI/testing/sysfs-bus-pci#L344-L355\n",
      "2023-11-10 18:56:11.102790: I tensorflow/compiler/xla/stream_executor/cuda/cuda_gpu_executor.cc:995] successful NUMA node read from SysFS had negative value (-1), but there must be at least one NUMA node, so returning NUMA node zero. See more at https://github.com/torvalds/linux/blob/v6.0/Documentation/ABI/testing/sysfs-bus-pci#L344-L355\n",
      "2023-11-10 18:56:11.103093: I tensorflow/compiler/xla/stream_executor/cuda/cuda_gpu_executor.cc:995] successful NUMA node read from SysFS had negative value (-1), but there must be at least one NUMA node, so returning NUMA node zero. See more at https://github.com/torvalds/linux/blob/v6.0/Documentation/ABI/testing/sysfs-bus-pci#L344-L355\n",
      "2023-11-10 18:56:11.103337: I tensorflow/compiler/xla/stream_executor/cuda/cuda_gpu_executor.cc:995] successful NUMA node read from SysFS had negative value (-1), but there must be at least one NUMA node, so returning NUMA node zero. See more at https://github.com/torvalds/linux/blob/v6.0/Documentation/ABI/testing/sysfs-bus-pci#L344-L355\n",
      "2023-11-10 18:56:11.103525: I tensorflow/core/common_runtime/gpu/gpu_device.cc:1639] Created device /job:localhost/replica:0/task:0/device:GPU:0 with 1113 MB memory:  -> device: 0, name: NVIDIA GeForce RTX 3060, pci bus id: 0000:06:00.0, compute capability: 8.6\n",
      "2023-11-10 18:56:14.885654: W tensorflow/tsl/framework/cpu_allocator_impl.cc:83] Allocation of 614400000 exceeds 10% of free system memory.\n",
      "2023-11-10 18:56:16.047885: W tensorflow/tsl/framework/cpu_allocator_impl.cc:83] Allocation of 614400000 exceeds 10% of free system memory.\n"
     ]
    },
    {
     "name": "stdout",
     "output_type": "stream",
     "text": [
      "Epoch 1/10\n"
     ]
    },
    {
     "name": "stderr",
     "output_type": "stream",
     "text": [
      "2023-11-10 18:56:17.310433: I tensorflow/compiler/xla/stream_executor/cuda/cuda_dnn.cc:432] Loaded cuDNN version 8600\n",
      "2023-11-10 18:56:17.605987: I tensorflow/tsl/platform/default/subprocess.cc:304] Start cannot spawn child process: No such file or directory\n",
      "2023-11-10 18:56:17.796347: I tensorflow/compiler/xla/stream_executor/cuda/cuda_blas.cc:606] TensorFloat-32 will be used for the matrix multiplication. This will only be logged once.\n",
      "2023-11-10 18:56:17.864378: I tensorflow/compiler/xla/service/service.cc:168] XLA service 0x7f29f4038ee0 initialized for platform CUDA (this does not guarantee that XLA will be used). Devices:\n",
      "2023-11-10 18:56:17.864425: I tensorflow/compiler/xla/service/service.cc:176]   StreamExecutor device (0): NVIDIA GeForce RTX 3060, Compute Capability 8.6\n",
      "2023-11-10 18:56:17.875041: I tensorflow/compiler/mlir/tensorflow/utils/dump_mlir_util.cc:255] disabling MLIR crash reproducer, set env var `MLIR_CRASH_REPRODUCER_DIRECTORY` to enable.\n",
      "2023-11-10 18:56:17.964526: I tensorflow/tsl/platform/default/subprocess.cc:304] Start cannot spawn child process: No such file or directory\n",
      "2023-11-10 18:56:18.030399: I ./tensorflow/compiler/jit/device_compiler.h:186] Compiled cluster using XLA!  This line is logged at most once for the lifetime of the process.\n"
     ]
    },
    {
     "name": "stdout",
     "output_type": "stream",
     "text": [
      "1563/1563 [==============================] - ETA: 0s - loss: 1.5117 - accuracy: 0.4486"
     ]
    },
    {
     "name": "stderr",
     "output_type": "stream",
     "text": [
      "2023-11-10 18:56:27.323412: W tensorflow/tsl/framework/cpu_allocator_impl.cc:83] Allocation of 122880000 exceeds 10% of free system memory.\n",
      "2023-11-10 18:56:27.493306: W tensorflow/tsl/framework/cpu_allocator_impl.cc:83] Allocation of 122880000 exceeds 10% of free system memory.\n"
     ]
    },
    {
     "name": "stdout",
     "output_type": "stream",
     "text": [
      "1563/1563 [==============================] - 12s 5ms/step - loss: 1.5117 - accuracy: 0.4486 - val_loss: 1.2803 - val_accuracy: 0.5385\n",
      "Epoch 2/10\n",
      "1563/1563 [==============================] - 8s 5ms/step - loss: 1.1372 - accuracy: 0.5966 - val_loss: 1.1054 - val_accuracy: 0.6099\n",
      "Epoch 3/10\n",
      "1563/1563 [==============================] - 8s 5ms/step - loss: 0.9822 - accuracy: 0.6551 - val_loss: 0.9546 - val_accuracy: 0.6650\n",
      "Epoch 4/10\n",
      "1563/1563 [==============================] - 8s 5ms/step - loss: 0.8831 - accuracy: 0.6899 - val_loss: 0.9173 - val_accuracy: 0.6844\n",
      "Epoch 5/10\n",
      "1563/1563 [==============================] - 8s 5ms/step - loss: 0.8106 - accuracy: 0.7161 - val_loss: 0.9173 - val_accuracy: 0.6820\n",
      "Epoch 6/10\n",
      "1563/1563 [==============================] - 8s 5ms/step - loss: 0.7513 - accuracy: 0.7358 - val_loss: 0.8609 - val_accuracy: 0.7019\n",
      "Epoch 7/10\n",
      "1563/1563 [==============================] - 8s 5ms/step - loss: 0.7056 - accuracy: 0.7542 - val_loss: 0.8931 - val_accuracy: 0.6967\n",
      "Epoch 8/10\n",
      "1563/1563 [==============================] - 8s 5ms/step - loss: 0.6603 - accuracy: 0.7680 - val_loss: 0.9537 - val_accuracy: 0.6817\n",
      "Epoch 9/10\n",
      "1563/1563 [==============================] - 8s 5ms/step - loss: 0.6201 - accuracy: 0.7819 - val_loss: 0.8372 - val_accuracy: 0.7127\n",
      "Epoch 10/10\n",
      "1563/1563 [==============================] - 9s 5ms/step - loss: 0.5822 - accuracy: 0.7948 - val_loss: 0.8645 - val_accuracy: 0.7180\n"
     ]
    }
   ],
   "source": [
    "gpu_history, gpu_time = train_model('/GPU:0', train_images, train_labels)\n",
    "print(f\"Training time on GPU: {gpu_time:.2f} seconds\")"
   ]
  },
  {
   "cell_type": "markdown",
   "id": "64666e10-02ff-4d6c-aa01-5b07f8d839d6",
   "metadata": {
    "id": "8_Ch1ZPO1bIC"
   },
   "source": [
    "### ☆ Solution `CIFAR-100` using TensorFlow on CPU and GPU ☆"
   ]
  },
  {
   "cell_type": "markdown",
   "id": "6b516ea9-f290-48f3-9a1c-1d27dfe8fc40",
   "metadata": {},
   "source": [
    "#### ⊗ Importing Packages"
   ]
  },
  {
   "cell_type": "code",
   "execution_count": 1,
   "id": "957c8134-f1af-461f-bcb6-04bf6fd3df37",
   "metadata": {
    "tags": []
   },
   "outputs": [
    {
     "name": "stderr",
     "output_type": "stream",
     "text": [
      "2023-11-10 20:12:48.492597: I tensorflow/core/platform/cpu_feature_guard.cc:182] This TensorFlow binary is optimized to use available CPU instructions in performance-critical operations.\n",
      "To enable the following instructions: AVX2 FMA, in other operations, rebuild TensorFlow with the appropriate compiler flags.\n",
      "2023-11-10 20:12:49.251015: W tensorflow/compiler/tf2tensorrt/utils/py_utils.cc:38] TF-TRT Warning: Could not find TensorRT\n"
     ]
    }
   ],
   "source": [
    "import tensorflow as tf\n",
    "from tensorflow.keras import datasets, layers, models\n",
    "import matplotlib.pyplot as plt\n",
    "import numpy as np\n",
    "import time"
   ]
  },
  {
   "cell_type": "markdown",
   "id": "1febc504-4ebe-4bb6-8f6c-c824026d568e",
   "metadata": {},
   "source": [
    "#### ⊗ Verify the devices"
   ]
  },
  {
   "cell_type": "markdown",
   "id": "1df68d65-eaf6-4410-8ac1-1966b6b807c9",
   "metadata": {},
   "source": [
    "It is very important, before trying to execute anything on any device, to verify if it is available and if TensorFlow can use it."
   ]
  },
  {
   "cell_type": "markdown",
   "id": "3952650d-c543-4377-80d8-9acc349847d1",
   "metadata": {},
   "source": [
    "#####  Checking the environmental availability"
   ]
  },
  {
   "cell_type": "code",
   "execution_count": 8,
   "id": "f562ecf4-18ab-4d8e-9069-f5ae649c35c3",
   "metadata": {
    "tags": []
   },
   "outputs": [
    {
     "name": "stdout",
     "output_type": "stream",
     "text": [
      "CPU device:  [PhysicalDevice(name='/physical_device:CPU:0', device_type='CPU')]\n",
      "GPU device:  [PhysicalDevice(name='/physical_device:GPU:0', device_type='GPU')]\n"
     ]
    }
   ],
   "source": [
    "# Checking if GPU is available\n",
    "print(f\"CPU device: \", tf.config.list_physical_devices('CPU'))\n",
    "print(f\"GPU device: \", tf.config.list_physical_devices('GPU'))"
   ]
  },
  {
   "cell_type": "markdown",
   "id": "231953fc-3a5a-4815-9bb9-e36da4ee6c03",
   "metadata": {},
   "source": [
    "#### ⊗ Downloading the dataset"
   ]
  },
  {
   "cell_type": "markdown",
   "id": "c58e871e-c674-45bc-80f0-95b92eacc173",
   "metadata": {},
   "source": [
    "Now we need to download the CIFAR-100 dataset to be able to make predictions. This dataset is a labeled images, meaning that each image to be loaded already has a known label."
   ]
  },
  {
   "cell_type": "code",
   "execution_count": 2,
   "id": "66dc3ef2-a385-4e4b-bc61-9338eac7733d",
   "metadata": {
    "tags": []
   },
   "outputs": [],
   "source": [
    "# Loading the CIFAR-100 dataset\n",
    "(train_images, train_labels), (test_images, test_labels) = datasets.cifar100.load_data()"
   ]
  },
  {
   "cell_type": "markdown",
   "id": "fea90a61-5c93-4ab2-8881-9333d4a7eced",
   "metadata": {},
   "source": [
    "#### ⊗ Normalizing the dataset"
   ]
  },
  {
   "cell_type": "markdown",
   "id": "dfaa4126-0a2c-45b6-b93c-0912581f20d0",
   "metadata": {},
   "source": [
    "After downloading the entire set of images, we need to normalize them so that we can use them in our example."
   ]
  },
  {
   "cell_type": "code",
   "execution_count": 3,
   "id": "d97aba15-fe1c-463a-814c-df82daa15b73",
   "metadata": {},
   "outputs": [],
   "source": [
    "# Normalizing pixel values to the [0, 1] range\n",
    "train_images, test_images = train_images / 255.0, test_images / 255.0"
   ]
  },
  {
   "cell_type": "markdown",
   "id": "2e061fe0-da7a-4e34-912e-29b17212eb34",
   "metadata": {},
   "source": [
    "#### ⊗ Training the model"
   ]
  },
  {
   "cell_type": "markdown",
   "id": "1ef7451a-a8e4-46b5-8f11-cf50e8051030",
   "metadata": {},
   "source": [
    "<p style='text-align: justify;'>\n",
    " Below we have the training function with model creation and model compilation. Notice that we need to get the creation and compilation together with the training because we need to set in which device everything will be done. We need to do this because if we don't set the device to create and compile the model, the TensorFlow will choose the faster device, in this case, the GPU, so if we try to use the CPU to train the model, it will fail because the model will be created on the GPU. \n",
    "</p>"
   ]
  },
  {
   "cell_type": "code",
   "execution_count": 1,
   "id": "76e269f4-3312-47a8-a4a8-876b5244f12b",
   "metadata": {},
   "outputs": [],
   "source": [
    "def train_model(device, train_images, train_labels):\n",
    "    with tf.device(device):\n",
    "        \n",
    "        # Creating the CNN model\n",
    "        model = models.Sequential([\n",
    "            layers.Conv2D(32, (3, 3), activation='relu', input_shape=(32, 32, 3)),\n",
    "            layers.MaxPooling2D((2, 2)),\n",
    "            layers.Conv2D(64, (3, 3), activation='relu'),\n",
    "            layers.MaxPooling2D((2, 2)),\n",
    "            layers.Conv2D(64, (3, 3), activation='relu'),\n",
    "            layers.Flatten(),\n",
    "            layers.Dense(64, activation='relu'),\n",
    "            layers.Dense(100)\n",
    "        ])\n",
    "\n",
    "        # Compiling the model\n",
    "        model.compile(optimizer='adam',\n",
    "                      loss=tf.keras.losses.SparseCategoricalCrossentropy(from_logits=True),\n",
    "                      metrics=['accuracy'])\n",
    "\n",
    "        start_time = time.time()\n",
    "        history = model.fit(train_images, train_labels, epochs=10, \n",
    "                            validation_data=(test_images, test_labels), verbose=1)\n",
    "        end_time = time.time()\n",
    "    \n",
    "    return history, end_time - start_time"
   ]
  },
  {
   "cell_type": "markdown",
   "id": "ec7b4655-aaa5-48c9-84de-e8c6c4bbe4a1",
   "metadata": {},
   "source": [
    "<p style='text-align: justify;'> \n",
    "    The next step is to train the model. Note that in the step below we will use the CPU to train the model. \n",
    "</p>"
   ]
  },
  {
   "cell_type": "code",
   "execution_count": 14,
   "id": "39d66c50-1b15-4115-8312-04e4705af6e9",
   "metadata": {},
   "outputs": [
    {
     "name": "stdout",
     "output_type": "stream",
     "text": [
      "Epoch 1/100\n",
      "1563/1563 [==============================] - 12s 7ms/step - loss: 3.9820 - accuracy: 0.0894 - val_loss: 3.5983 - val_accuracy: 0.1472\n",
      "Epoch 2/100\n",
      "1563/1563 [==============================] - 11s 7ms/step - loss: 3.3427 - accuracy: 0.1944 - val_loss: 3.1927 - val_accuracy: 0.2267\n",
      "Epoch 3/100\n",
      "1563/1563 [==============================] - 10s 7ms/step - loss: 3.0259 - accuracy: 0.2532 - val_loss: 3.0182 - val_accuracy: 0.2530\n",
      "Epoch 4/100\n",
      "1563/1563 [==============================] - 10s 7ms/step - loss: 2.8248 - accuracy: 0.2928 - val_loss: 2.8302 - val_accuracy: 0.2988\n",
      "Epoch 5/100\n",
      "1563/1563 [==============================] - 11s 7ms/step - loss: 2.6736 - accuracy: 0.3212 - val_loss: 2.7431 - val_accuracy: 0.3106\n",
      "Epoch 6/100\n",
      "1563/1563 [==============================] - 10s 6ms/step - loss: 2.5645 - accuracy: 0.3467 - val_loss: 2.6803 - val_accuracy: 0.3244\n",
      "Epoch 7/100\n",
      "1563/1563 [==============================] - 10s 6ms/step - loss: 2.4716 - accuracy: 0.3643 - val_loss: 2.6199 - val_accuracy: 0.3391\n",
      "Epoch 8/100\n",
      "1563/1563 [==============================] - 10s 6ms/step - loss: 2.3916 - accuracy: 0.3825 - val_loss: 2.5877 - val_accuracy: 0.3415\n",
      "Epoch 9/100\n",
      "1563/1563 [==============================] - 10s 6ms/step - loss: 2.3273 - accuracy: 0.3939 - val_loss: 2.6169 - val_accuracy: 0.3457\n",
      "Epoch 10/100\n",
      "1563/1563 [==============================] - 10s 6ms/step - loss: 2.2641 - accuracy: 0.4087 - val_loss: 2.5565 - val_accuracy: 0.3503\n",
      "Epoch 11/100\n",
      "1563/1563 [==============================] - 10s 6ms/step - loss: 2.2073 - accuracy: 0.4188 - val_loss: 2.5554 - val_accuracy: 0.3605\n",
      "Epoch 12/100\n",
      "1563/1563 [==============================] - 10s 6ms/step - loss: 2.1608 - accuracy: 0.4302 - val_loss: 2.5505 - val_accuracy: 0.3661\n",
      "Epoch 13/100\n",
      "1563/1563 [==============================] - 10s 6ms/step - loss: 2.1086 - accuracy: 0.4396 - val_loss: 2.5355 - val_accuracy: 0.3650\n",
      "Epoch 14/100\n",
      "1563/1563 [==============================] - 10s 6ms/step - loss: 2.0612 - accuracy: 0.4491 - val_loss: 2.6267 - val_accuracy: 0.3562\n",
      "Epoch 15/100\n",
      "1563/1563 [==============================] - 10s 6ms/step - loss: 2.0179 - accuracy: 0.4622 - val_loss: 2.5533 - val_accuracy: 0.3624\n",
      "Epoch 16/100\n",
      "1563/1563 [==============================] - 10s 6ms/step - loss: 1.9883 - accuracy: 0.4687 - val_loss: 2.5879 - val_accuracy: 0.3690\n",
      "Epoch 17/100\n",
      "1563/1563 [==============================] - 10s 6ms/step - loss: 1.9501 - accuracy: 0.4720 - val_loss: 2.5711 - val_accuracy: 0.3649\n",
      "Epoch 18/100\n",
      "1563/1563 [==============================] - 10s 6ms/step - loss: 1.9144 - accuracy: 0.4836 - val_loss: 2.6047 - val_accuracy: 0.3709\n",
      "Epoch 19/100\n",
      "1563/1563 [==============================] - 10s 6ms/step - loss: 1.8819 - accuracy: 0.4883 - val_loss: 2.6491 - val_accuracy: 0.3611\n",
      "Epoch 20/100\n",
      "1563/1563 [==============================] - 10s 6ms/step - loss: 1.8515 - accuracy: 0.4954 - val_loss: 2.6226 - val_accuracy: 0.3653\n",
      "Epoch 21/100\n",
      "1563/1563 [==============================] - 10s 6ms/step - loss: 1.8208 - accuracy: 0.5026 - val_loss: 2.6419 - val_accuracy: 0.3711\n",
      "Epoch 22/100\n",
      "1563/1563 [==============================] - 10s 6ms/step - loss: 1.7891 - accuracy: 0.5075 - val_loss: 2.7289 - val_accuracy: 0.3511\n",
      "Epoch 23/100\n",
      "1563/1563 [==============================] - 10s 6ms/step - loss: 1.7480 - accuracy: 0.5186 - val_loss: 2.7723 - val_accuracy: 0.3542\n",
      "Epoch 24/100\n",
      "1563/1563 [==============================] - 10s 6ms/step - loss: 1.7268 - accuracy: 0.5228 - val_loss: 2.7439 - val_accuracy: 0.3610\n",
      "Epoch 25/100\n",
      "1563/1563 [==============================] - 9s 6ms/step - loss: 1.6970 - accuracy: 0.5297 - val_loss: 2.8210 - val_accuracy: 0.3553\n",
      "Epoch 26/100\n",
      "1563/1563 [==============================] - 9s 6ms/step - loss: 1.6767 - accuracy: 0.5340 - val_loss: 2.8240 - val_accuracy: 0.3550\n",
      "Epoch 27/100\n",
      "1563/1563 [==============================] - 10s 6ms/step - loss: 1.6507 - accuracy: 0.5377 - val_loss: 2.8588 - val_accuracy: 0.3531\n",
      "Epoch 28/100\n",
      "1563/1563 [==============================] - 10s 6ms/step - loss: 1.6265 - accuracy: 0.5444 - val_loss: 2.9242 - val_accuracy: 0.3424\n",
      "Epoch 29/100\n",
      "1563/1563 [==============================] - 10s 6ms/step - loss: 1.6058 - accuracy: 0.5508 - val_loss: 2.9674 - val_accuracy: 0.3441\n",
      "Epoch 30/100\n",
      "1563/1563 [==============================] - 10s 6ms/step - loss: 1.5767 - accuracy: 0.5557 - val_loss: 3.0431 - val_accuracy: 0.3344\n",
      "Epoch 31/100\n",
      "1563/1563 [==============================] - 10s 6ms/step - loss: 1.5586 - accuracy: 0.5624 - val_loss: 2.9825 - val_accuracy: 0.3403\n",
      "Epoch 32/100\n",
      "1563/1563 [==============================] - 10s 6ms/step - loss: 1.5464 - accuracy: 0.5617 - val_loss: 3.1080 - val_accuracy: 0.3343\n",
      "Epoch 33/100\n",
      "1563/1563 [==============================] - 10s 6ms/step - loss: 1.5193 - accuracy: 0.5715 - val_loss: 3.0334 - val_accuracy: 0.3405\n",
      "Epoch 34/100\n",
      "1563/1563 [==============================] - 10s 6ms/step - loss: 1.5025 - accuracy: 0.5741 - val_loss: 3.1231 - val_accuracy: 0.3352\n",
      "Epoch 35/100\n",
      "1563/1563 [==============================] - 10s 6ms/step - loss: 1.4822 - accuracy: 0.5786 - val_loss: 3.1144 - val_accuracy: 0.3389\n",
      "Epoch 36/100\n",
      "1563/1563 [==============================] - 10s 6ms/step - loss: 1.4639 - accuracy: 0.5829 - val_loss: 3.1315 - val_accuracy: 0.3380\n",
      "Epoch 37/100\n",
      "1563/1563 [==============================] - 10s 6ms/step - loss: 1.4448 - accuracy: 0.5857 - val_loss: 3.2252 - val_accuracy: 0.3344\n",
      "Epoch 38/100\n",
      "1563/1563 [==============================] - 10s 6ms/step - loss: 1.4305 - accuracy: 0.5898 - val_loss: 3.2191 - val_accuracy: 0.3384\n",
      "Epoch 39/100\n",
      "1563/1563 [==============================] - 10s 6ms/step - loss: 1.4070 - accuracy: 0.5973 - val_loss: 3.2920 - val_accuracy: 0.3261\n",
      "Epoch 40/100\n",
      "1563/1563 [==============================] - 10s 6ms/step - loss: 1.3958 - accuracy: 0.5978 - val_loss: 3.3398 - val_accuracy: 0.3281\n",
      "Epoch 41/100\n",
      "1563/1563 [==============================] - 10s 6ms/step - loss: 1.3784 - accuracy: 0.6021 - val_loss: 3.3725 - val_accuracy: 0.3320\n",
      "Epoch 42/100\n",
      "1563/1563 [==============================] - 10s 6ms/step - loss: 1.3605 - accuracy: 0.6064 - val_loss: 3.3775 - val_accuracy: 0.3341\n",
      "Epoch 43/100\n",
      "1563/1563 [==============================] - 10s 6ms/step - loss: 1.3424 - accuracy: 0.6105 - val_loss: 3.3902 - val_accuracy: 0.3278\n",
      "Epoch 44/100\n",
      "1563/1563 [==============================] - 10s 6ms/step - loss: 1.3361 - accuracy: 0.6103 - val_loss: 3.4314 - val_accuracy: 0.3302\n",
      "Epoch 45/100\n",
      "1563/1563 [==============================] - 10s 6ms/step - loss: 1.3157 - accuracy: 0.6152 - val_loss: 3.4846 - val_accuracy: 0.3303\n",
      "Epoch 46/100\n",
      "1563/1563 [==============================] - 10s 6ms/step - loss: 1.3004 - accuracy: 0.6205 - val_loss: 3.5517 - val_accuracy: 0.3216\n",
      "Epoch 47/100\n",
      "1563/1563 [==============================] - 10s 6ms/step - loss: 1.2870 - accuracy: 0.6245 - val_loss: 3.6188 - val_accuracy: 0.3251\n",
      "Epoch 48/100\n",
      "1563/1563 [==============================] - 10s 6ms/step - loss: 1.2793 - accuracy: 0.6258 - val_loss: 3.6299 - val_accuracy: 0.3233\n",
      "Epoch 49/100\n",
      "1563/1563 [==============================] - 10s 6ms/step - loss: 1.2666 - accuracy: 0.6288 - val_loss: 3.6403 - val_accuracy: 0.3209\n",
      "Epoch 50/100\n",
      "1563/1563 [==============================] - 10s 6ms/step - loss: 1.2549 - accuracy: 0.6305 - val_loss: 3.7094 - val_accuracy: 0.3256\n",
      "Epoch 51/100\n",
      "1563/1563 [==============================] - 10s 6ms/step - loss: 1.2357 - accuracy: 0.6355 - val_loss: 3.7692 - val_accuracy: 0.3214\n",
      "Epoch 52/100\n",
      "1563/1563 [==============================] - 9s 6ms/step - loss: 1.2322 - accuracy: 0.6351 - val_loss: 3.7720 - val_accuracy: 0.3182\n",
      "Epoch 53/100\n",
      "1563/1563 [==============================] - 9s 6ms/step - loss: 1.2114 - accuracy: 0.6436 - val_loss: 3.8689 - val_accuracy: 0.3167\n",
      "Epoch 54/100\n",
      "1563/1563 [==============================] - 9s 6ms/step - loss: 1.2121 - accuracy: 0.6447 - val_loss: 3.9566 - val_accuracy: 0.3117\n",
      "Epoch 55/100\n",
      "1563/1563 [==============================] - 9s 6ms/step - loss: 1.1900 - accuracy: 0.6480 - val_loss: 3.9815 - val_accuracy: 0.3121\n",
      "Epoch 56/100\n",
      "1563/1563 [==============================] - 9s 6ms/step - loss: 1.1842 - accuracy: 0.6489 - val_loss: 3.9319 - val_accuracy: 0.3173\n",
      "Epoch 57/100\n",
      "1563/1563 [==============================] - 9s 6ms/step - loss: 1.1746 - accuracy: 0.6490 - val_loss: 4.0200 - val_accuracy: 0.3133\n",
      "Epoch 58/100\n",
      "1563/1563 [==============================] - 9s 6ms/step - loss: 1.1685 - accuracy: 0.6533 - val_loss: 4.0961 - val_accuracy: 0.3193\n",
      "Epoch 59/100\n",
      "1563/1563 [==============================] - 9s 6ms/step - loss: 1.1547 - accuracy: 0.6562 - val_loss: 4.0412 - val_accuracy: 0.3123\n",
      "Epoch 60/100\n",
      "1563/1563 [==============================] - 9s 6ms/step - loss: 1.1477 - accuracy: 0.6566 - val_loss: 4.0953 - val_accuracy: 0.3168\n",
      "Epoch 61/100\n",
      "1563/1563 [==============================] - 9s 6ms/step - loss: 1.1333 - accuracy: 0.6624 - val_loss: 4.1881 - val_accuracy: 0.3164\n",
      "Epoch 62/100\n",
      "1563/1563 [==============================] - 9s 6ms/step - loss: 1.1308 - accuracy: 0.6601 - val_loss: 4.2478 - val_accuracy: 0.3175\n",
      "Epoch 63/100\n",
      "1563/1563 [==============================] - 9s 6ms/step - loss: 1.1209 - accuracy: 0.6633 - val_loss: 4.1654 - val_accuracy: 0.3116\n",
      "Epoch 64/100\n",
      "1563/1563 [==============================] - 9s 6ms/step - loss: 1.1198 - accuracy: 0.6650 - val_loss: 4.3027 - val_accuracy: 0.3046\n",
      "Epoch 65/100\n",
      "1563/1563 [==============================] - 9s 6ms/step - loss: 1.1104 - accuracy: 0.6681 - val_loss: 4.3078 - val_accuracy: 0.3094\n",
      "Epoch 66/100\n",
      "1563/1563 [==============================] - 9s 6ms/step - loss: 1.1012 - accuracy: 0.6699 - val_loss: 4.4450 - val_accuracy: 0.3145\n",
      "Epoch 67/100\n",
      "1563/1563 [==============================] - 9s 6ms/step - loss: 1.0927 - accuracy: 0.6726 - val_loss: 4.5461 - val_accuracy: 0.3052\n",
      "Epoch 68/100\n",
      "1563/1563 [==============================] - 9s 6ms/step - loss: 1.0834 - accuracy: 0.6745 - val_loss: 4.4277 - val_accuracy: 0.3114\n",
      "Epoch 69/100\n",
      "1563/1563 [==============================] - 9s 6ms/step - loss: 1.0804 - accuracy: 0.6753 - val_loss: 4.4882 - val_accuracy: 0.3049\n",
      "Epoch 70/100\n",
      "1563/1563 [==============================] - 9s 6ms/step - loss: 1.0717 - accuracy: 0.6754 - val_loss: 4.5815 - val_accuracy: 0.3056\n",
      "Epoch 71/100\n",
      "1563/1563 [==============================] - 9s 6ms/step - loss: 1.0718 - accuracy: 0.6770 - val_loss: 4.6156 - val_accuracy: 0.3077\n",
      "Epoch 72/100\n",
      "1563/1563 [==============================] - 9s 6ms/step - loss: 1.0663 - accuracy: 0.6754 - val_loss: 4.6388 - val_accuracy: 0.2993\n",
      "Epoch 73/100\n",
      "1563/1563 [==============================] - 9s 6ms/step - loss: 1.0645 - accuracy: 0.6771 - val_loss: 4.6219 - val_accuracy: 0.3040\n",
      "Epoch 74/100\n",
      "1563/1563 [==============================] - 9s 6ms/step - loss: 1.0502 - accuracy: 0.6819 - val_loss: 4.6902 - val_accuracy: 0.3049\n",
      "Epoch 75/100\n",
      "1563/1563 [==============================] - 9s 6ms/step - loss: 1.0472 - accuracy: 0.6827 - val_loss: 4.8055 - val_accuracy: 0.3043\n",
      "Epoch 76/100\n",
      "1563/1563 [==============================] - 9s 6ms/step - loss: 1.0431 - accuracy: 0.6841 - val_loss: 4.6928 - val_accuracy: 0.3037\n",
      "Epoch 77/100\n",
      "1563/1563 [==============================] - 9s 6ms/step - loss: 1.0360 - accuracy: 0.6843 - val_loss: 4.8567 - val_accuracy: 0.2996\n",
      "Epoch 78/100\n",
      "1563/1563 [==============================] - 9s 6ms/step - loss: 1.0214 - accuracy: 0.6896 - val_loss: 4.7900 - val_accuracy: 0.3073\n",
      "Epoch 79/100\n",
      "1563/1563 [==============================] - 9s 6ms/step - loss: 1.0255 - accuracy: 0.6898 - val_loss: 4.9489 - val_accuracy: 0.2991\n",
      "Epoch 80/100\n",
      "1563/1563 [==============================] - 9s 6ms/step - loss: 1.0186 - accuracy: 0.6913 - val_loss: 4.8420 - val_accuracy: 0.3063\n",
      "Epoch 81/100\n",
      "1563/1563 [==============================] - 9s 6ms/step - loss: 1.0200 - accuracy: 0.6892 - val_loss: 4.8914 - val_accuracy: 0.3044\n",
      "Epoch 82/100\n",
      "1563/1563 [==============================] - 9s 6ms/step - loss: 1.0024 - accuracy: 0.6946 - val_loss: 4.9329 - val_accuracy: 0.3080\n",
      "Epoch 83/100\n",
      "1563/1563 [==============================] - 9s 6ms/step - loss: 1.0011 - accuracy: 0.6930 - val_loss: 5.0042 - val_accuracy: 0.3030\n",
      "Epoch 84/100\n",
      "1563/1563 [==============================] - 9s 6ms/step - loss: 1.0013 - accuracy: 0.6940 - val_loss: 4.9324 - val_accuracy: 0.3019\n",
      "Epoch 85/100\n",
      "1563/1563 [==============================] - 9s 6ms/step - loss: 0.9914 - accuracy: 0.6972 - val_loss: 5.0953 - val_accuracy: 0.3027\n",
      "Epoch 86/100\n",
      "1563/1563 [==============================] - 9s 6ms/step - loss: 0.9983 - accuracy: 0.6941 - val_loss: 5.1269 - val_accuracy: 0.2992\n",
      "Epoch 87/100\n",
      "1563/1563 [==============================] - 8s 5ms/step - loss: 1.0017 - accuracy: 0.6943 - val_loss: 5.1110 - val_accuracy: 0.2970\n",
      "Epoch 88/100\n",
      "1563/1563 [==============================] - 8s 5ms/step - loss: 0.9826 - accuracy: 0.7009 - val_loss: 5.1852 - val_accuracy: 0.2984\n",
      "Epoch 89/100\n",
      "1563/1563 [==============================] - 8s 5ms/step - loss: 0.9790 - accuracy: 0.7006 - val_loss: 5.2498 - val_accuracy: 0.2946\n",
      "Epoch 90/100\n",
      "1563/1563 [==============================] - 8s 5ms/step - loss: 0.9764 - accuracy: 0.6998 - val_loss: 5.1598 - val_accuracy: 0.2975\n",
      "Epoch 91/100\n",
      "1563/1563 [==============================] - 9s 5ms/step - loss: 0.9651 - accuracy: 0.7064 - val_loss: 5.2302 - val_accuracy: 0.2990\n",
      "Epoch 92/100\n",
      "1563/1563 [==============================] - 8s 5ms/step - loss: 0.9729 - accuracy: 0.7022 - val_loss: 5.3972 - val_accuracy: 0.2978\n",
      "Epoch 93/100\n",
      "1563/1563 [==============================] - 8s 5ms/step - loss: 0.9592 - accuracy: 0.7049 - val_loss: 5.3983 - val_accuracy: 0.2925\n",
      "Epoch 94/100\n",
      "1563/1563 [==============================] - 8s 5ms/step - loss: 0.9699 - accuracy: 0.7041 - val_loss: 5.2849 - val_accuracy: 0.2964\n",
      "Epoch 95/100\n",
      "1563/1563 [==============================] - 8s 5ms/step - loss: 0.9510 - accuracy: 0.7067 - val_loss: 5.4121 - val_accuracy: 0.2973\n",
      "Epoch 96/100\n",
      "1563/1563 [==============================] - 8s 5ms/step - loss: 0.9663 - accuracy: 0.7031 - val_loss: 5.4125 - val_accuracy: 0.2918\n",
      "Epoch 97/100\n",
      "1563/1563 [==============================] - 8s 5ms/step - loss: 0.9491 - accuracy: 0.7095 - val_loss: 5.5326 - val_accuracy: 0.2916\n",
      "Epoch 98/100\n",
      "1563/1563 [==============================] - 8s 5ms/step - loss: 0.9514 - accuracy: 0.7073 - val_loss: 5.5109 - val_accuracy: 0.2947\n",
      "Epoch 99/100\n",
      "1563/1563 [==============================] - 8s 5ms/step - loss: 0.9428 - accuracy: 0.7107 - val_loss: 5.4689 - val_accuracy: 0.2939\n",
      "Epoch 100/100\n",
      "1563/1563 [==============================] - 8s 5ms/step - loss: 0.9450 - accuracy: 0.7082 - val_loss: 5.4910 - val_accuracy: 0.2956\n",
      "\n",
      "CPU Training time: 933.31 seconds or (15.56 minutes)\n"
     ]
    }
   ],
   "source": [
    "history, cpu_time = train_model('/CPU:0', train_images, train_labels)\n",
    "print(f\"\\nCPU Training time: {cpu_time:.2f} seconds or ({cpu_time / 60:.2f} minutes)\")"
   ]
  },
  {
   "cell_type": "markdown",
   "id": "020138db-d31a-4065-99ad-574da599db9e",
   "metadata": {},
   "source": [
    "Now we will perform the same training only using the GPU."
   ]
  },
  {
   "cell_type": "code",
   "execution_count": 5,
   "id": "9a08c023-228b-4ded-86ac-656aa008649a",
   "metadata": {},
   "outputs": [
    {
     "name": "stderr",
     "output_type": "stream",
     "text": [
      "2023-11-10 20:13:06.805704: I tensorflow/compiler/xla/stream_executor/cuda/cuda_gpu_executor.cc:995] successful NUMA node read from SysFS had negative value (-1), but there must be at least one NUMA node, so returning NUMA node zero. See more at https://github.com/torvalds/linux/blob/v6.0/Documentation/ABI/testing/sysfs-bus-pci#L344-L355\n",
      "2023-11-10 20:13:06.835209: I tensorflow/compiler/xla/stream_executor/cuda/cuda_gpu_executor.cc:995] successful NUMA node read from SysFS had negative value (-1), but there must be at least one NUMA node, so returning NUMA node zero. See more at https://github.com/torvalds/linux/blob/v6.0/Documentation/ABI/testing/sysfs-bus-pci#L344-L355\n",
      "2023-11-10 20:13:06.835432: I tensorflow/compiler/xla/stream_executor/cuda/cuda_gpu_executor.cc:995] successful NUMA node read from SysFS had negative value (-1), but there must be at least one NUMA node, so returning NUMA node zero. See more at https://github.com/torvalds/linux/blob/v6.0/Documentation/ABI/testing/sysfs-bus-pci#L344-L355\n",
      "2023-11-10 20:13:06.836521: I tensorflow/compiler/xla/stream_executor/cuda/cuda_gpu_executor.cc:995] successful NUMA node read from SysFS had negative value (-1), but there must be at least one NUMA node, so returning NUMA node zero. See more at https://github.com/torvalds/linux/blob/v6.0/Documentation/ABI/testing/sysfs-bus-pci#L344-L355\n",
      "2023-11-10 20:13:06.836702: I tensorflow/compiler/xla/stream_executor/cuda/cuda_gpu_executor.cc:995] successful NUMA node read from SysFS had negative value (-1), but there must be at least one NUMA node, so returning NUMA node zero. See more at https://github.com/torvalds/linux/blob/v6.0/Documentation/ABI/testing/sysfs-bus-pci#L344-L355\n",
      "2023-11-10 20:13:06.836843: I tensorflow/compiler/xla/stream_executor/cuda/cuda_gpu_executor.cc:995] successful NUMA node read from SysFS had negative value (-1), but there must be at least one NUMA node, so returning NUMA node zero. See more at https://github.com/torvalds/linux/blob/v6.0/Documentation/ABI/testing/sysfs-bus-pci#L344-L355\n",
      "2023-11-10 20:13:06.903512: I tensorflow/compiler/xla/stream_executor/cuda/cuda_gpu_executor.cc:995] successful NUMA node read from SysFS had negative value (-1), but there must be at least one NUMA node, so returning NUMA node zero. See more at https://github.com/torvalds/linux/blob/v6.0/Documentation/ABI/testing/sysfs-bus-pci#L344-L355\n",
      "2023-11-10 20:13:06.903709: I tensorflow/compiler/xla/stream_executor/cuda/cuda_gpu_executor.cc:995] successful NUMA node read from SysFS had negative value (-1), but there must be at least one NUMA node, so returning NUMA node zero. See more at https://github.com/torvalds/linux/blob/v6.0/Documentation/ABI/testing/sysfs-bus-pci#L344-L355\n",
      "2023-11-10 20:13:06.903855: I tensorflow/compiler/xla/stream_executor/cuda/cuda_gpu_executor.cc:995] successful NUMA node read from SysFS had negative value (-1), but there must be at least one NUMA node, so returning NUMA node zero. See more at https://github.com/torvalds/linux/blob/v6.0/Documentation/ABI/testing/sysfs-bus-pci#L344-L355\n",
      "2023-11-10 20:13:06.903978: I tensorflow/core/common_runtime/gpu/gpu_device.cc:1639] Created device /job:localhost/replica:0/task:0/device:GPU:0 with 877 MB memory:  -> device: 0, name: NVIDIA GeForce RTX 3060, pci bus id: 0000:06:00.0, compute capability: 8.6\n",
      "2023-11-10 20:13:07.466355: W tensorflow/tsl/framework/cpu_allocator_impl.cc:83] Allocation of 614400000 exceeds 10% of free system memory.\n",
      "2023-11-10 20:13:08.053500: W tensorflow/tsl/framework/cpu_allocator_impl.cc:83] Allocation of 614400000 exceeds 10% of free system memory.\n"
     ]
    },
    {
     "name": "stdout",
     "output_type": "stream",
     "text": [
      "Epoch 1/100\n"
     ]
    },
    {
     "name": "stderr",
     "output_type": "stream",
     "text": [
      "2023-11-10 20:13:08.746349: I tensorflow/compiler/xla/stream_executor/cuda/cuda_dnn.cc:432] Loaded cuDNN version 8600\n",
      "2023-11-10 20:13:08.820333: I tensorflow/tsl/platform/default/subprocess.cc:304] Start cannot spawn child process: No such file or directory\n",
      "2023-11-10 20:13:08.906014: I tensorflow/compiler/xla/stream_executor/cuda/cuda_blas.cc:606] TensorFloat-32 will be used for the matrix multiplication. This will only be logged once.\n",
      "2023-11-10 20:13:08.930883: I tensorflow/compiler/xla/service/service.cc:168] XLA service 0x6ed2a80 initialized for platform CUDA (this does not guarantee that XLA will be used). Devices:\n",
      "2023-11-10 20:13:08.930902: I tensorflow/compiler/xla/service/service.cc:176]   StreamExecutor device (0): NVIDIA GeForce RTX 3060, Compute Capability 8.6\n",
      "2023-11-10 20:13:08.934468: I tensorflow/compiler/mlir/tensorflow/utils/dump_mlir_util.cc:255] disabling MLIR crash reproducer, set env var `MLIR_CRASH_REPRODUCER_DIRECTORY` to enable.\n",
      "2023-11-10 20:13:08.982396: I tensorflow/tsl/platform/default/subprocess.cc:304] Start cannot spawn child process: No such file or directory\n",
      "2023-11-10 20:13:09.022846: I ./tensorflow/compiler/jit/device_compiler.h:186] Compiled cluster using XLA!  This line is logged at most once for the lifetime of the process.\n"
     ]
    },
    {
     "name": "stdout",
     "output_type": "stream",
     "text": [
      "1563/1563 [==============================] - 5s 3ms/step - loss: 4.0372 - accuracy: 0.0815 - val_loss: 3.6330 - val_accuracy: 0.1475\n",
      "Epoch 2/100\n",
      "1563/1563 [==============================] - 3s 2ms/step - loss: 3.4043 - accuracy: 0.1820 - val_loss: 3.2068 - val_accuracy: 0.2260\n",
      "Epoch 3/100\n",
      "1563/1563 [==============================] - 3s 2ms/step - loss: 3.0786 - accuracy: 0.2444 - val_loss: 2.9868 - val_accuracy: 0.2637\n",
      "Epoch 4/100\n",
      "1563/1563 [==============================] - 3s 2ms/step - loss: 2.8842 - accuracy: 0.2801 - val_loss: 2.8580 - val_accuracy: 0.2906\n",
      "Epoch 5/100\n",
      "1563/1563 [==============================] - 3s 2ms/step - loss: 2.7348 - accuracy: 0.3112 - val_loss: 2.7659 - val_accuracy: 0.3109\n",
      "Epoch 6/100\n",
      "1563/1563 [==============================] - 3s 2ms/step - loss: 2.6164 - accuracy: 0.3342 - val_loss: 2.7473 - val_accuracy: 0.3150\n",
      "Epoch 7/100\n",
      "1563/1563 [==============================] - 3s 2ms/step - loss: 2.5298 - accuracy: 0.3507 - val_loss: 2.6511 - val_accuracy: 0.3342\n",
      "Epoch 8/100\n",
      "1563/1563 [==============================] - 3s 2ms/step - loss: 2.4546 - accuracy: 0.3678 - val_loss: 2.6604 - val_accuracy: 0.3332\n",
      "Epoch 9/100\n",
      "1563/1563 [==============================] - 3s 2ms/step - loss: 2.3937 - accuracy: 0.3801 - val_loss: 2.6206 - val_accuracy: 0.3421\n",
      "Epoch 10/100\n",
      "1563/1563 [==============================] - 3s 2ms/step - loss: 2.3306 - accuracy: 0.3945 - val_loss: 2.6316 - val_accuracy: 0.3445\n",
      "Epoch 11/100\n",
      "1563/1563 [==============================] - 3s 2ms/step - loss: 2.2784 - accuracy: 0.4030 - val_loss: 2.5635 - val_accuracy: 0.3623\n",
      "Epoch 12/100\n",
      "1563/1563 [==============================] - 3s 2ms/step - loss: 2.2315 - accuracy: 0.4136 - val_loss: 2.5336 - val_accuracy: 0.3644\n",
      "Epoch 13/100\n",
      "1563/1563 [==============================] - 3s 2ms/step - loss: 2.1920 - accuracy: 0.4214 - val_loss: 2.6248 - val_accuracy: 0.3431\n",
      "Epoch 14/100\n",
      "1563/1563 [==============================] - 3s 2ms/step - loss: 2.1499 - accuracy: 0.4304 - val_loss: 2.5799 - val_accuracy: 0.3602\n",
      "Epoch 15/100\n",
      "1563/1563 [==============================] - 3s 2ms/step - loss: 2.1095 - accuracy: 0.4381 - val_loss: 2.5901 - val_accuracy: 0.3594\n",
      "Epoch 16/100\n",
      "1563/1563 [==============================] - 3s 2ms/step - loss: 2.0862 - accuracy: 0.4446 - val_loss: 2.5317 - val_accuracy: 0.3677\n",
      "Epoch 17/100\n",
      "1563/1563 [==============================] - 3s 2ms/step - loss: 2.0455 - accuracy: 0.4541 - val_loss: 2.5805 - val_accuracy: 0.3537\n",
      "Epoch 18/100\n",
      "1563/1563 [==============================] - 3s 2ms/step - loss: 2.0205 - accuracy: 0.4583 - val_loss: 2.5844 - val_accuracy: 0.3552\n",
      "Epoch 19/100\n",
      "1563/1563 [==============================] - 3s 2ms/step - loss: 1.9940 - accuracy: 0.4643 - val_loss: 2.5876 - val_accuracy: 0.3570\n",
      "Epoch 20/100\n",
      "1563/1563 [==============================] - 3s 2ms/step - loss: 1.9641 - accuracy: 0.4703 - val_loss: 2.6803 - val_accuracy: 0.3531\n",
      "Epoch 21/100\n",
      "1563/1563 [==============================] - 3s 2ms/step - loss: 1.9456 - accuracy: 0.4751 - val_loss: 2.6296 - val_accuracy: 0.3602\n",
      "Epoch 22/100\n",
      "1563/1563 [==============================] - 3s 2ms/step - loss: 1.9142 - accuracy: 0.4811 - val_loss: 2.6258 - val_accuracy: 0.3547\n",
      "Epoch 23/100\n",
      "1563/1563 [==============================] - 3s 2ms/step - loss: 1.8875 - accuracy: 0.4885 - val_loss: 2.6764 - val_accuracy: 0.3542\n",
      "Epoch 24/100\n",
      "1563/1563 [==============================] - 3s 2ms/step - loss: 1.8611 - accuracy: 0.4952 - val_loss: 2.6983 - val_accuracy: 0.3496\n",
      "Epoch 25/100\n",
      "1563/1563 [==============================] - 3s 2ms/step - loss: 1.8449 - accuracy: 0.4974 - val_loss: 2.6642 - val_accuracy: 0.3674\n",
      "Epoch 26/100\n",
      "1563/1563 [==============================] - 3s 2ms/step - loss: 1.8242 - accuracy: 0.5016 - val_loss: 2.7315 - val_accuracy: 0.3457\n",
      "Epoch 27/100\n",
      "1563/1563 [==============================] - 3s 2ms/step - loss: 1.8036 - accuracy: 0.5054 - val_loss: 2.7046 - val_accuracy: 0.3612\n",
      "Epoch 28/100\n",
      "1563/1563 [==============================] - 3s 2ms/step - loss: 1.7799 - accuracy: 0.5133 - val_loss: 2.7302 - val_accuracy: 0.3551\n",
      "Epoch 29/100\n",
      "1563/1563 [==============================] - 3s 2ms/step - loss: 1.7642 - accuracy: 0.5138 - val_loss: 2.7728 - val_accuracy: 0.3471\n",
      "Epoch 30/100\n",
      "1563/1563 [==============================] - 3s 2ms/step - loss: 1.7477 - accuracy: 0.5182 - val_loss: 2.8215 - val_accuracy: 0.3504\n",
      "Epoch 31/100\n",
      "1563/1563 [==============================] - 3s 2ms/step - loss: 1.7232 - accuracy: 0.5250 - val_loss: 2.7874 - val_accuracy: 0.3491\n",
      "Epoch 32/100\n",
      "1563/1563 [==============================] - 3s 2ms/step - loss: 1.7063 - accuracy: 0.5250 - val_loss: 2.8531 - val_accuracy: 0.3549\n",
      "Epoch 33/100\n",
      "1563/1563 [==============================] - 3s 2ms/step - loss: 1.6853 - accuracy: 0.5342 - val_loss: 2.8705 - val_accuracy: 0.3491\n",
      "Epoch 34/100\n",
      "1563/1563 [==============================] - 3s 2ms/step - loss: 1.6703 - accuracy: 0.5373 - val_loss: 2.8481 - val_accuracy: 0.3514\n",
      "Epoch 35/100\n",
      "1563/1563 [==============================] - 3s 2ms/step - loss: 1.6594 - accuracy: 0.5396 - val_loss: 2.9163 - val_accuracy: 0.3401\n",
      "Epoch 36/100\n",
      "1563/1563 [==============================] - 3s 2ms/step - loss: 1.6451 - accuracy: 0.5420 - val_loss: 2.8950 - val_accuracy: 0.3555\n",
      "Epoch 37/100\n",
      "1563/1563 [==============================] - 3s 2ms/step - loss: 1.6204 - accuracy: 0.5463 - val_loss: 2.9544 - val_accuracy: 0.3490\n",
      "Epoch 38/100\n",
      "1563/1563 [==============================] - 3s 2ms/step - loss: 1.6090 - accuracy: 0.5493 - val_loss: 2.9763 - val_accuracy: 0.3404\n",
      "Epoch 39/100\n",
      "1563/1563 [==============================] - 3s 2ms/step - loss: 1.5917 - accuracy: 0.5541 - val_loss: 3.0414 - val_accuracy: 0.3419\n",
      "Epoch 40/100\n",
      "1563/1563 [==============================] - 3s 2ms/step - loss: 1.5839 - accuracy: 0.5553 - val_loss: 2.9941 - val_accuracy: 0.3404\n",
      "Epoch 41/100\n",
      "1563/1563 [==============================] - 3s 2ms/step - loss: 1.5710 - accuracy: 0.5578 - val_loss: 3.0382 - val_accuracy: 0.3521\n",
      "Epoch 42/100\n",
      "1563/1563 [==============================] - 3s 2ms/step - loss: 1.5568 - accuracy: 0.5613 - val_loss: 3.0621 - val_accuracy: 0.3344\n",
      "Epoch 43/100\n",
      "1563/1563 [==============================] - 3s 2ms/step - loss: 1.5382 - accuracy: 0.5645 - val_loss: 3.1357 - val_accuracy: 0.3332\n",
      "Epoch 44/100\n",
      "1563/1563 [==============================] - 3s 2ms/step - loss: 1.5380 - accuracy: 0.5643 - val_loss: 3.1031 - val_accuracy: 0.3270\n",
      "Epoch 45/100\n",
      "1563/1563 [==============================] - 3s 2ms/step - loss: 1.5224 - accuracy: 0.5697 - val_loss: 3.1263 - val_accuracy: 0.3366\n",
      "Epoch 46/100\n",
      "1563/1563 [==============================] - 3s 2ms/step - loss: 1.5083 - accuracy: 0.5720 - val_loss: 3.1638 - val_accuracy: 0.3388\n",
      "Epoch 47/100\n",
      "1563/1563 [==============================] - 3s 2ms/step - loss: 1.4919 - accuracy: 0.5756 - val_loss: 3.2100 - val_accuracy: 0.3337\n",
      "Epoch 48/100\n",
      "1563/1563 [==============================] - 3s 2ms/step - loss: 1.4863 - accuracy: 0.5771 - val_loss: 3.2198 - val_accuracy: 0.3243\n",
      "Epoch 49/100\n",
      "1563/1563 [==============================] - 3s 2ms/step - loss: 1.4744 - accuracy: 0.5808 - val_loss: 3.2754 - val_accuracy: 0.3339\n",
      "Epoch 50/100\n",
      "1563/1563 [==============================] - 3s 2ms/step - loss: 1.4644 - accuracy: 0.5821 - val_loss: 3.3173 - val_accuracy: 0.3287\n",
      "Epoch 51/100\n",
      "1563/1563 [==============================] - 3s 2ms/step - loss: 1.4537 - accuracy: 0.5819 - val_loss: 3.3208 - val_accuracy: 0.3271\n",
      "Epoch 52/100\n",
      "1563/1563 [==============================] - 3s 2ms/step - loss: 1.4455 - accuracy: 0.5874 - val_loss: 3.3311 - val_accuracy: 0.3251\n",
      "Epoch 53/100\n",
      "1563/1563 [==============================] - 3s 2ms/step - loss: 1.4321 - accuracy: 0.5882 - val_loss: 3.3193 - val_accuracy: 0.3257\n",
      "Epoch 54/100\n",
      "1563/1563 [==============================] - 3s 2ms/step - loss: 1.4343 - accuracy: 0.5890 - val_loss: 3.3632 - val_accuracy: 0.3263\n",
      "Epoch 55/100\n",
      "1563/1563 [==============================] - 3s 2ms/step - loss: 1.4202 - accuracy: 0.5901 - val_loss: 3.4138 - val_accuracy: 0.3265\n",
      "Epoch 56/100\n",
      "1563/1563 [==============================] - 3s 2ms/step - loss: 1.4134 - accuracy: 0.5934 - val_loss: 3.4590 - val_accuracy: 0.3255\n",
      "Epoch 57/100\n",
      "1563/1563 [==============================] - 3s 2ms/step - loss: 1.4040 - accuracy: 0.5962 - val_loss: 3.4052 - val_accuracy: 0.3263\n",
      "Epoch 58/100\n",
      "1563/1563 [==============================] - 3s 2ms/step - loss: 1.4045 - accuracy: 0.5942 - val_loss: 3.4521 - val_accuracy: 0.3266\n",
      "Epoch 59/100\n",
      "1563/1563 [==============================] - 3s 2ms/step - loss: 1.3883 - accuracy: 0.5997 - val_loss: 3.4972 - val_accuracy: 0.3229\n",
      "Epoch 60/100\n",
      "1563/1563 [==============================] - 3s 2ms/step - loss: 1.3815 - accuracy: 0.5999 - val_loss: 3.5276 - val_accuracy: 0.3258\n",
      "Epoch 61/100\n",
      "1563/1563 [==============================] - 3s 2ms/step - loss: 1.3754 - accuracy: 0.6023 - val_loss: 3.5318 - val_accuracy: 0.3220\n",
      "Epoch 62/100\n",
      "1563/1563 [==============================] - 3s 2ms/step - loss: 1.3621 - accuracy: 0.6056 - val_loss: 3.5566 - val_accuracy: 0.3251\n",
      "Epoch 63/100\n",
      "1563/1563 [==============================] - 3s 2ms/step - loss: 1.3559 - accuracy: 0.6070 - val_loss: 3.5872 - val_accuracy: 0.3184\n",
      "Epoch 64/100\n",
      "1563/1563 [==============================] - 3s 2ms/step - loss: 1.3547 - accuracy: 0.6069 - val_loss: 3.6217 - val_accuracy: 0.3148\n",
      "Epoch 65/100\n",
      "1563/1563 [==============================] - 3s 2ms/step - loss: 1.3344 - accuracy: 0.6096 - val_loss: 3.6395 - val_accuracy: 0.3203\n",
      "Epoch 66/100\n",
      "1563/1563 [==============================] - 3s 2ms/step - loss: 1.3336 - accuracy: 0.6116 - val_loss: 3.6331 - val_accuracy: 0.3209\n",
      "Epoch 67/100\n",
      "1563/1563 [==============================] - 3s 2ms/step - loss: 1.3239 - accuracy: 0.6152 - val_loss: 3.7084 - val_accuracy: 0.3143\n",
      "Epoch 68/100\n",
      "1563/1563 [==============================] - 3s 2ms/step - loss: 1.3189 - accuracy: 0.6146 - val_loss: 3.7131 - val_accuracy: 0.3175\n",
      "Epoch 69/100\n",
      "1563/1563 [==============================] - 3s 2ms/step - loss: 1.3077 - accuracy: 0.6182 - val_loss: 3.7266 - val_accuracy: 0.3176\n",
      "Epoch 70/100\n",
      "1563/1563 [==============================] - 3s 2ms/step - loss: 1.2967 - accuracy: 0.6207 - val_loss: 3.7688 - val_accuracy: 0.3222\n",
      "Epoch 71/100\n",
      "1563/1563 [==============================] - 3s 2ms/step - loss: 1.2989 - accuracy: 0.6192 - val_loss: 3.8088 - val_accuracy: 0.3174\n",
      "Epoch 72/100\n",
      "1563/1563 [==============================] - 3s 2ms/step - loss: 1.2847 - accuracy: 0.6243 - val_loss: 3.8187 - val_accuracy: 0.3138\n",
      "Epoch 73/100\n",
      "1563/1563 [==============================] - 3s 2ms/step - loss: 1.2708 - accuracy: 0.6274 - val_loss: 3.8440 - val_accuracy: 0.3131\n",
      "Epoch 74/100\n",
      "1563/1563 [==============================] - 3s 2ms/step - loss: 1.2600 - accuracy: 0.6303 - val_loss: 3.8250 - val_accuracy: 0.3168\n",
      "Epoch 75/100\n",
      "1563/1563 [==============================] - 3s 2ms/step - loss: 1.2643 - accuracy: 0.6299 - val_loss: 3.8389 - val_accuracy: 0.3079\n",
      "Epoch 76/100\n",
      "1563/1563 [==============================] - 3s 2ms/step - loss: 1.2571 - accuracy: 0.6298 - val_loss: 3.9143 - val_accuracy: 0.3124\n",
      "Epoch 77/100\n",
      "1563/1563 [==============================] - 3s 2ms/step - loss: 1.2428 - accuracy: 0.6343 - val_loss: 3.9332 - val_accuracy: 0.3121\n",
      "Epoch 78/100\n",
      "1563/1563 [==============================] - 3s 2ms/step - loss: 1.2380 - accuracy: 0.6362 - val_loss: 3.9852 - val_accuracy: 0.3107\n",
      "Epoch 79/100\n",
      "1563/1563 [==============================] - 3s 2ms/step - loss: 1.2408 - accuracy: 0.6337 - val_loss: 3.9418 - val_accuracy: 0.3078\n",
      "Epoch 80/100\n",
      "1563/1563 [==============================] - 3s 2ms/step - loss: 1.2228 - accuracy: 0.6408 - val_loss: 3.9599 - val_accuracy: 0.3114\n",
      "Epoch 81/100\n",
      "1563/1563 [==============================] - 3s 2ms/step - loss: 1.2212 - accuracy: 0.6405 - val_loss: 4.0865 - val_accuracy: 0.3034\n",
      "Epoch 82/100\n",
      "1563/1563 [==============================] - 3s 2ms/step - loss: 1.2254 - accuracy: 0.6386 - val_loss: 4.0193 - val_accuracy: 0.3135\n",
      "Epoch 83/100\n",
      "1563/1563 [==============================] - 3s 2ms/step - loss: 1.2066 - accuracy: 0.6439 - val_loss: 4.0659 - val_accuracy: 0.3065\n",
      "Epoch 84/100\n",
      "1563/1563 [==============================] - 3s 2ms/step - loss: 1.2073 - accuracy: 0.6425 - val_loss: 4.0990 - val_accuracy: 0.3127\n",
      "Epoch 85/100\n",
      "1563/1563 [==============================] - 3s 2ms/step - loss: 1.2048 - accuracy: 0.6433 - val_loss: 4.2517 - val_accuracy: 0.3059\n",
      "Epoch 86/100\n",
      "1563/1563 [==============================] - 3s 2ms/step - loss: 1.1923 - accuracy: 0.6441 - val_loss: 4.1408 - val_accuracy: 0.3090\n",
      "Epoch 87/100\n",
      "1563/1563 [==============================] - 3s 2ms/step - loss: 1.1849 - accuracy: 0.6492 - val_loss: 4.1851 - val_accuracy: 0.3044\n",
      "Epoch 88/100\n",
      "1563/1563 [==============================] - 3s 2ms/step - loss: 1.1843 - accuracy: 0.6476 - val_loss: 4.2226 - val_accuracy: 0.3010\n",
      "Epoch 89/100\n",
      "1563/1563 [==============================] - 3s 2ms/step - loss: 1.1749 - accuracy: 0.6493 - val_loss: 4.3434 - val_accuracy: 0.3070\n",
      "Epoch 90/100\n",
      "1563/1563 [==============================] - 3s 2ms/step - loss: 1.1709 - accuracy: 0.6515 - val_loss: 4.3508 - val_accuracy: 0.3054\n",
      "Epoch 91/100\n",
      "1563/1563 [==============================] - 3s 2ms/step - loss: 1.1612 - accuracy: 0.6530 - val_loss: 4.3356 - val_accuracy: 0.3081\n",
      "Epoch 92/100\n",
      "1563/1563 [==============================] - 3s 2ms/step - loss: 1.1652 - accuracy: 0.6536 - val_loss: 4.2728 - val_accuracy: 0.3093\n",
      "Epoch 93/100\n",
      "1563/1563 [==============================] - 3s 2ms/step - loss: 1.1585 - accuracy: 0.6556 - val_loss: 4.2754 - val_accuracy: 0.2994\n",
      "Epoch 94/100\n",
      "1563/1563 [==============================] - 3s 2ms/step - loss: 1.1511 - accuracy: 0.6575 - val_loss: 4.3493 - val_accuracy: 0.3032\n",
      "Epoch 95/100\n",
      "1563/1563 [==============================] - 3s 2ms/step - loss: 1.1487 - accuracy: 0.6563 - val_loss: 4.4350 - val_accuracy: 0.3041\n",
      "Epoch 96/100\n",
      "1563/1563 [==============================] - 3s 2ms/step - loss: 1.1480 - accuracy: 0.6571 - val_loss: 4.4201 - val_accuracy: 0.2993\n",
      "Epoch 97/100\n",
      "1563/1563 [==============================] - 3s 2ms/step - loss: 1.1537 - accuracy: 0.6525 - val_loss: 4.4337 - val_accuracy: 0.3062\n",
      "Epoch 98/100\n",
      "1563/1563 [==============================] - 3s 2ms/step - loss: 1.1318 - accuracy: 0.6613 - val_loss: 4.5196 - val_accuracy: 0.2950\n",
      "Epoch 99/100\n",
      "1563/1563 [==============================] - 3s 2ms/step - loss: 1.1310 - accuracy: 0.6606 - val_loss: 4.4224 - val_accuracy: 0.3050\n",
      "Epoch 100/100\n",
      "1563/1563 [==============================] - 3s 2ms/step - loss: 1.1289 - accuracy: 0.6609 - val_loss: 4.5105 - val_accuracy: 0.3030\n",
      "\n",
      "GPU Training time: 332.60 seconds or (5.54 minutes)\n"
     ]
    }
   ],
   "source": [
    "history, gpu_time = train_model('/GPU:0', train_images, train_labels)\n",
    "print(f\"\\nGPU Training time: {gpu_time:.2f} seconds or ({gpu_time / 60:.2f} minutes)\")"
   ]
  },
  {
   "cell_type": "markdown",
   "id": "9dcd2cc5-78a3-4c2b-80d3-f05113f4b505",
   "metadata": {},
   "source": [
    "Now we will evaluate the speedup by comparing the GPU and CPU execution times."
   ]
  },
  {
   "cell_type": "code",
   "execution_count": null,
   "id": "a4b3db5c-af0f-4f09-86fe-ecf23de9d0bb",
   "metadata": {},
   "outputs": [
    {
     "name": "stdout",
     "output_type": "stream",
     "text": [
      "\n",
      "Speedup: 1.79X\n"
     ]
    }
   ],
   "source": [
    "print(f\"\\nSpeedup:{cpu_time / gpu_time: .2f}X\") "
   ]
  },
  {
   "cell_type": "markdown",
   "id": "6e3689f6-fd46-4d9f-b72e-651ad7d3f4fb",
   "metadata": {},
   "source": [
    "### Comments about the results"
   ]
  },
  {
   "cell_type": "markdown",
   "id": "c2bf1b32",
   "metadata": {},
   "source": [
    "<p style='text-align: justify;'>\n",
    "We explored training neural networks with TensorFlow, comparing CPU and GPU performance on the CIFAR-10 and CIFAR-100 dataset using 10 epochs. When training with CIFAR-10 and utilizing the CPU, and GPU environments, the process can be executed in approximately:\n",
    "</p>\n",
    "\n",
    "|  TensorFlow |      CIFAR-10    |  CIFAR-100 |\n",
    "|----------|:-------------:      |-----------:|\n",
    "| CPU         |  811.17          |   0,000.00|\n",
    "| GPU         |  37.23           |   00.00 |\n",
    "| Speedup     |  21.78X          |   0.00 |\n",
    "\n",
    "<p style='text-align: justify;'>\n",
    "This outcome illustrates that the GPU has achieved nearly a <b>Speedup of 7X</b> compared to the CPU when running with 10 epochs in the algorithm with the highest computational cost (CIFAR-100). Thanks to its parallel computing capabilities, the GPU has substantially enhanced the training speed, which is particularly advantageous for handling extensive data and intricate models in deep learning.\n",
    "</p>   "
   ]
  },
  {
   "cell_type": "markdown",
   "id": "1e7f43b0",
   "metadata": {},
   "source": [
    "## Summary\n",
    "In this notebook we have shown: \n",
    "\n",
    "- Install and use TensorFlow using GPU environments,\n",
    "- Comparative performance tests between CPU and GPU on model training."
   ]
  },
  {
   "cell_type": "markdown",
   "id": "f81e8dad",
   "metadata": {},
   "source": [
    "## Clear the memory\n",
    "Before moving on, please execute the following cell to clear up the CPU memory. This is required to move on to the next notebook."
   ]
  },
  {
   "cell_type": "code",
   "execution_count": null,
   "id": "2f3945a6",
   "metadata": {},
   "outputs": [],
   "source": [
    "import IPython\n",
    "app = IPython.Application.instance()\n",
    "app.kernel.do_shutdown(True)"
   ]
  },
  {
   "cell_type": "markdown",
   "id": "80b52915-f34b-480a-ac98-dc48f82bd007",
   "metadata": {},
   "source": [
    "## Next"
   ]
  },
  {
   "cell_type": "markdown",
   "id": "94ebb05e",
   "metadata": {},
   "source": [
    "In this section, you learned how to use TensorFlow in a simple example using a GPU environment. In the next section, you will learn about other applications in which those devices can be pretty useful, in the notebbok [_03-hpc-simulations-pytorch.ipynb_](03-hpc-simulations-pytorch.ipynb)."
   ]
  }
 ],
 "metadata": {
  "kernelspec": {
   "display_name": "Python 3 (ipykernel)",
   "language": "python",
   "name": "python3"
  },
  "language_info": {
   "codemirror_mode": {
    "name": "ipython",
    "version": 3
   },
   "file_extension": ".py",
   "mimetype": "text/x-python",
   "name": "python",
   "nbconvert_exporter": "python",
   "pygments_lexer": "ipython3",
   "version": "3.8.8"
  }
 },
 "nbformat": 4,
 "nbformat_minor": 5
}
