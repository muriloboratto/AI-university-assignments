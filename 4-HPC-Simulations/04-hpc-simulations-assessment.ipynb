{
 "cells": [
  {
   "cell_type": "markdown",
   "metadata": {},
   "source": [
    "# Assessment"
   ]
  },
  {
   "cell_type": "markdown",
   "metadata": {},
   "source": [
    "<p style='text-align: justify;'>\n",
    "Congratulations on finishing the HPC simulations course!! Hopefully, you learned some valuable skills and had fun doing it. Now, it's time to put these skills to the test. This evaluation has the following problem: Create a neural network to predict atmospheric wind speed. You must create and train a model using one of the tools studied and evaluate its performance. Let's get started!\n",
    "</p>"
   ]
  },
  {
   "cell_type": "markdown",
   "metadata": {
    "tags": []
   },
   "source": [
    "## Problem: Predict atmospheric wind speed"
   ]
  },
  {
   "cell_type": "markdown",
   "metadata": {
    "tags": []
   },
   "source": [
    "<p style='text-align: justify;'>\n",
    "Predicting atmospheric wind speed is important in various applications, such as weather forecasting, aviation, and wind energy park deployment. An accurate understanding of wind speed and direction is essential for making informed decisions in many sectors.\n",
    "</p>\n",
    "<p style='text-align: justify;'>\n",
    "In this challenge, you aim to develop a machine-learning model capable of predicting wind speed one hour ahead. To accomplish this, you will use one of the tools studied in the course and leverage the knowledge you have acquired to create and train a precise neural network model using appropriate computational resources. After training the model, you must assess its forecasting ability and determine its effectiveness.\n",
    "</p>    \n",
    "\n",
    "<p style=\"text-align: center;\">\n",
    " <img src=\"images/figure01_meteorological_station.jpg\" style=\"width: 700px;\">\n",
    "</p>\n"
   ]
  },
  {
   "cell_type": "markdown",
   "metadata": {
    "tags": []
   },
   "source": [
    "### Wind dataset\n",
    "\n",
    "We will use the [Wind dataset](data/wind-dataset/wind-dataset.csv) of a city where we will have various meteorological information available in which we will obtain information related to wind measurement so that we can develop our algorithm. Let's look at a sample below."
   ]
  },
  {
   "cell_type": "markdown",
   "metadata": {
    "tags": []
   },
   "source": [
    "|   id |   year |   day |   min |   dir_avg |   tp_sfc |   humid |   press |   ws_10m |   wd_10m |\n",
    "|-----:|-------:|------:|------:|----------:|---------:|--------:|--------:|---------:|---------:|\n",
    "|    1 |   2019 |    91 |     0 |    -0.417 |    24.62 |   89.8  | 1010.86 |    1.273 |     64.5 |\n",
    "|    2 |   2019 |    91 |     1 |    -0.377 |    24.69 |   89.7  | 1010.83 |    1.118 |     57.4 |\n",
    "|    3 |   2019 |    91 |     2 |    -0.346 |    24.67 |   90    | 1010.86 |    1.095 |     91.7 |\n",
    "|    4 |   2019 |    91 |     3 |    -0.471 |    24.64 |   90.6  | 1010.89 |    0.995 |     76   |\n",
    "|    5 |   2019 |    91 |     4 |    -0.444 |    24.58 |   90.6  | 1010.89 |    0.93  |     85.8 |\n",
    "|    6 |   2019 |    91 |     5 |    -0.444 |    24.59 |   90.6  | 1010.86 |    0.747 |     98.5 |\n",
    "|    7 |   2019 |    91 |     6 |    -0.431 |    24.57 |   90.4  | 1010.86 |    0.669 |     87.5 |\n",
    "|    8 |   2019 |    91 |     7 |    -0.408 |    24.6  |   90.5  | 1010.89 |    0.598 |     88.2 |\n",
    "|    9 |   2019 |    91 |     8 |    -0.448 |    24.59 |   90.7  | 1010.8  |    0.452 |     84.5 |\n",
    "|   10 |   2019 |    91 |     9 |    -0.368 |    24.58 |   90.4  | 1010.89 |    0.913 |     78.5 |"
   ]
  },
  {
   "cell_type": "markdown",
   "metadata": {},
   "source": [
    "Below, we have the description of each of the identifiers in our dataset.\n",
    "\n",
    "|          |                |           |              |\n",
    "|----------|----------------|-----------|--------------|\n",
    "| **id:**  | A unique identifier for each record in the table.                  | **humid:** | Relative humidity. |                  \n",
    "| **year:**| The year to which the data refers.                                 | **press:** | Atmospheric pressure.|                        \n",
    "| **day:** | The day of the year when the measurements were taken.              | **tp_sfc:** | Surface temperature.|                 \n",
    "| **min:** | The minute of the hour when the measurements were taken.           | **ws_10m:** | Wind speed at 10 meters above the surface.|\n",
    "| **dir_avg:** | Average wind direction.                                        | **wd_10m:** | Wind direction at 10 meters above the surface.|\n"
   ]
  },
  {
   "cell_type": "markdown",
   "metadata": {},
   "source": [
    "The model for predicting wind speed one hour ahead is as follows:\n",
    "\n",
    "<p style=\"text-align: center;\">\n",
    " <img src=\"images/figure05_ann_predicted_wind_model.jpg\" style=\"width: 700px;\">\n",
    "</p>"
   ]
  },
  {
   "cell_type": "markdown",
   "metadata": {},
   "source": [
    "Our mission is to develop artificial intelligence capable of making wind speed predictions based on the data available. The algorithm must meet the following criteria:\n",
    "\n",
    "* Implement the algorithm using TensorFlow or PyTorch,\n",
    "* Predict the wind speed one hour ahead,\n",
    "* Measure the execution time of the algorithm developed on a CPU and/or GPU environment."
   ]
  },
  {
   "cell_type": "markdown",
   "metadata": {},
   "source": [
    "The database used in this challenge was available at: http://sonda.ccst.inpe.br/basedados/florianopolis.html"
   ]
  }
 ],
 "metadata": {
  "kernelspec": {
   "display_name": "Python 3 (ipykernel)",
   "language": "python",
   "name": "python3"
  },
  "language_info": {
   "codemirror_mode": {
    "name": "ipython",
    "version": 3
   },
   "file_extension": ".py",
   "mimetype": "text/x-python",
   "name": "python",
   "nbconvert_exporter": "python",
   "pygments_lexer": "ipython3",
   "version": "3.8.8"
  }
 },
 "nbformat": 4,
 "nbformat_minor": 4
}
